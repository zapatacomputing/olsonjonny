{
 "cells": [
  {
   "cell_type": "markdown",
   "metadata": {},
   "source": [
    "This notebook is confidential, and for use by Honeywell only. Property of Zapata Computing, Inc."
   ]
  },
  {
   "cell_type": "markdown",
   "metadata": {},
   "source": [
    "To run this notebook, a Python 3 environment with Qiskit is necessary.  To install the latest version of Qiskit, simply `pip install qiskit`. "
   ]
  },
  {
   "cell_type": "markdown",
   "metadata": {},
   "source": [
    "# Repeat Until Success Circuits"
   ]
  },
  {
   "cell_type": "markdown",
   "metadata": {},
   "source": [
    "The repeat-until-success circuit is a mechanism for applying a non-determinstic operation on a qubit such that, in the case of a failed operation, the qubit can be returned to its original state (and hence one can try again).  In this demo, we will compose two RUS circuits to create an \"effective\" nonlinearity. Below, we plot the function q(x)=arctan(tan^2(x)).  The important behavior of this function is that multiple compositions of it generate an approximate step function.  This behavior is an important step in how deep neural networks can learn nonlinear phenomena."
   ]
  },
  {
   "cell_type": "markdown",
   "metadata": {},
   "source": [
    "![Activation Function](activation.png)"
   ]
  },
  {
   "cell_type": "markdown",
   "metadata": {},
   "source": [
    "Below, we describe the theoretical application of a single RUS circuit, and then a diagram of the circuit which applies this operation (in the yellow box).  The input qubit |psi> is the target qubit, and |0> is an ancilla needed to apply the circuit."
   ]
  },
  {
   "cell_type": "markdown",
   "metadata": {},
   "source": [
    "![Equation](equation.png)"
   ]
  },
  {
   "cell_type": "markdown",
   "metadata": {},
   "source": [
    "![RUS 1](rus_1.png)"
   ]
  },
  {
   "cell_type": "markdown",
   "metadata": {},
   "source": [
    "Let us consider the output state of the circuit.  The first term (|0>|psi>) corresponds to a successful application of the function q(x) to the argument of an R_y gate applied to |psi>.  Hence, by measuring |0> on the first qubit, we have ensured the desired operation has occurred on the target qubit.\n",
    "\n",
    "On the other  hand, if we measure |1> on the first qubit, we have instead applied an R_y rotation of pi/4 to the target qubit.  The idea of a repeat-until-success circuit, then, is to apply a R_y(-pi/4) rotation to the target qubit and reset the first qubit to |0> *on the condition that this measurement occurs*.  After doing so, we have returned to the state |0>|psi> and can apply the RUS block again."
   ]
  },
  {
   "cell_type": "markdown",
   "metadata": {},
   "source": [
    "![RUS 2](rus_2.png)"
   ]
  },
  {
   "cell_type": "markdown",
   "metadata": {},
   "source": [
    "In this demo, we will construct some variations of a circuit which composes *two* iterations of the RUS circuits.  These variations will differ on the experimental features that are needed to apply them.  They are:\n",
    "- Post-selected gates: \n",
    "This approach requires no \"special\" hardware features, and relies on simply running the circuit many times to extract the desired information.  When all of the ancilla states measure |0>, the desired operation has been applied.  This is not an efficient scheme when composing many RUS circuits together since, in the worse case, the probability of getting all |0> on ancillas is (1/2)^(# of ancillas).  \n",
    "- Feedforward:\n",
    "This approach actually warrants the name \"repeat until success\".  In this case, measurements are made sequentially on the ancillas.  When the measurement reads |0>, the circuit proceeds to the next block.  If the measurement reads |1>, an \"undo\" gate is applies and the circuit loops and reapplies the previous block, and measurement occurs again.  This repeats until the measurement exits the loop by reading |0>.  This is efficient when composing many RUS circuits together, but will be limited by error if many repetitions of the circuit blocks need to be applied."
   ]
  },
  {
   "cell_type": "markdown",
   "metadata": {},
   "source": [
    "## Import Libraries"
   ]
  },
  {
   "cell_type": "code",
   "execution_count": 9,
   "metadata": {},
   "outputs": [],
   "source": [
    "# import libraries\n",
    "%matplotlib inline\n",
    "from itertools import product\n",
    "import matplotlib\n",
    "import matplotlib.pyplot as plt\n",
    "matplotlib.rcParams.update({'errorbar.capsize': 3})\n",
    "from matplotlib.ticker import MaxNLocator\n",
    "import numpy as np\n",
    "from scipy import optimize\n",
    "from qiskit import QuantumCircuit, ClassicalRegister, QuantumRegister, execute, BasicAer\n",
    "from qiskit.tools.visualization import circuit_drawer\n",
    "from math import pi\n",
    "from decimal import *\n",
    "from qiskit.converters import circuits_to_qobj as to_qasm\n",
    "from qiskit.qobj._converter import *\n",
    "\n",
    "backend = BasicAer.get_backend('qasm_simulator')"
   ]
  },
  {
   "cell_type": "markdown",
   "metadata": {},
   "source": [
    "## Post-selected RUS Circuit\n",
    "\n",
    "As a first demonstration, we will generate the post-selected version of the circuit (using Qiskit).  We have chosen the target qubit |psi>=|0>, so that we can measure in the computational basis at the end to generate a plot that looks similar to q(q(x)). A diagram of the abstract components and the specific circuit which implements it follow:\n",
    "\n",
    "![Post-selected Circuit](ps_circ.png)"
   ]
  },
  {
   "cell_type": "code",
   "execution_count": 2,
   "metadata": {},
   "outputs": [],
   "source": [
    "## Generate the post-selected circuit using Qiskit\n",
    "\n",
    "def generate_rus_ps(phi):\n",
    "    #Creates a Qiskit circuit object corresponding to a Post-Selected RUS circuit.\n",
    "    q = QuantumRegister(4, 'q')\n",
    "    c1 = ClassicalRegister(1, 'c1')\n",
    "    c2 = ClassicalRegister(1, 'c2')\n",
    "    c3 = ClassicalRegister(1, 'c3')\n",
    "    c4 = ClassicalRegister(1, 'c4')\n",
    "    qc = QuantumCircuit(q,c1,c2,c3,c4)\n",
    "    \n",
    "    #RUS Block 1\n",
    "    qc.ry(phi,q[0])\n",
    "    qc.u1(-pi/2,q[0])\n",
    "    qc.cy(q[0],q[1])\n",
    "    qc.ry(-phi,q[0])\n",
    "    qc.measure(q[0],c1[0])\n",
    "\n",
    "    #Apply control -iY\n",
    "    qc.u1(-pi/2,q[1])\n",
    "    qc.cy(q[1],q[3])\n",
    "    \n",
    "    #RUS Block 2\n",
    "    qc.ry(phi,q[2])\n",
    "    qc.u1(-pi/2,q[2])\n",
    "    qc.cy(q[2],q[1])\n",
    "    qc.ry(-phi,q[2])\n",
    "    qc.measure(q[2],c2[0])\n",
    "    \n",
    "    #Final control\n",
    "    qc.measure(q[1],c3[0])\n",
    "    \n",
    "    #Final measurement\n",
    "    qc.measure(q[3],c4[0])\n",
    "    return qc\n",
    "\n",
    "#print(generate_rus_ps(pi/2))"
   ]
  },
  {
   "cell_type": "markdown",
   "metadata": {},
   "source": [
    "## Run the RUS circuit"
   ]
  },
  {
   "cell_type": "markdown",
   "metadata": {},
   "source": [
    "This function applies the above circuit, breaking `phi` into increments of `pi`/`num_bins` and post-selects on measurement results with only 0's in the ancilla (the total number of measurements before post-selection is given by 'shots').  The print_counts variable can be used to check the exact results. Below is an example of the circuit with `phi` in increments of `pi`/`16` with 1000 shots taken for each `phi`.  Note that when `phi` gets close to `pi`/`2`, the count rate is low.  This is because we are post-selecting only on the successful applications of the RUS circuit, which occur only about 1/8 of the time.  The feedforward circuit will have higher count rates, because the circuit elements are *actually* repeated until success."
   ]
  },
  {
   "cell_type": "code",
   "execution_count": 10,
   "metadata": {},
   "outputs": [
    {
     "name": "stdout",
     "output_type": "stream",
     "text": [
      "Phi: 0.00   0 Count: 1000   1 Count: 0   Fraction of 1 counts : 0.00\n",
      "Phi: 0.21   0 Count: 945   1 Count: 0   Fraction of 1 counts : 0.00\n",
      "Phi: 0.42   0 Count: 848   1 Count: 0   Fraction of 1 counts : 0.00\n",
      "Phi: 0.63   0 Count: 666   1 Count: 0   Fraction of 1 counts : 0.00\n",
      "Phi: 0.84   0 Count: 492   1 Count: 0   Fraction of 1 counts : 0.00\n",
      "Phi: 1.05   0 Count: 312   1 Count: 2   Fraction of 1 counts : 0.01\n",
      "Phi: 1.26   0 Count: 207   1 Count: 15   Fraction of 1 counts : 0.07\n",
      "Phi: 1.47   0 Count: 109   1 Count: 38   Fraction of 1 counts : 0.26\n",
      "Phi: 1.68   0 Count: 34   1 Count: 92   Fraction of 1 counts : 0.73\n",
      "Phi: 1.88   0 Count: 13   1 Count: 183   Fraction of 1 counts : 0.93\n",
      "Phi: 2.09   0 Count: 7   1 Count: 318   Fraction of 1 counts : 0.98\n",
      "Phi: 2.30   0 Count: 1   1 Count: 488   Fraction of 1 counts : 1.00\n",
      "Phi: 2.51   0 Count: 0   1 Count: 647   Fraction of 1 counts : 1.00\n",
      "Phi: 2.72   0 Count: 0   1 Count: 837   Fraction of 1 counts : 1.00\n",
      "Phi: 2.93   0 Count: 0   1 Count: 961   Fraction of 1 counts : 1.00\n",
      "Phi: 3.14   0 Count: 0   1 Count: 1000   Fraction of 1 counts : 1.00\n",
      "[[0.0, 0.0, 0.0, 0.0, 0.0, 0.006369426751592357, 0.06756756756756757, 0.2585034013605442, 0.7301587301587301, 0.9336734693877551, 0.9784615384615385, 0.9979550102249489, 1.0, 1.0, 1.0, 1.0], [1000, 945, 848, 666, 492, 314, 222, 147, 126, 196, 325, 489, 647, 837, 961, 1000]]\n"
     ]
    }
   ],
   "source": [
    "def rus_counts(num_bins,shots=1000,print_counts=False):\n",
    "    #Runs a Post-Selected RUS circuit experiment over an interval of 0 to pi in increments of pi/num_bins.\n",
    "    #If print_counts=True, prints the correspoding data from the experiment.\n",
    "    bin_values = []\n",
    "    bin_counts = []\n",
    "    for k in range(num_bins):\n",
    "        phi = k*pi/(num_bins-1)\n",
    "        phi_str = '%.2f' % phi\n",
    "        qc = generate_rus_ps(k*pi/(num_bins-1))\n",
    "        job = execute(qc, backend, shots=shots)\n",
    "        x = job.result().get_counts(qc)\n",
    "        try: \n",
    "            y = x['1 0 0 0']\n",
    "        except:\n",
    "            y = 0\n",
    "        try: \n",
    "            z = x['0 0 0 0']\n",
    "        except:\n",
    "            z = 0\n",
    "        w = y/(z+y)\n",
    "        bin_values.append(w)\n",
    "        bin_counts.append(z+y)\n",
    "        if print_counts:\n",
    "            print('Phi: '+str(phi_str)+'   '+'0 Count: '+str(z)+'   '+'1 Count: '+str(y)+'   '+'Fraction of 1 counts : '+'%.2f' % w)\n",
    "    return [bin_values,bin_counts]\n",
    "\n",
    "print(rus_counts(16,1000,True))"
   ]
  },
  {
   "cell_type": "markdown",
   "metadata": {},
   "source": [
    "## Plot the Performance of Post-Selected RUS\n",
    "\n",
    "We now plot the above data.  Note that the error bars toward the edges of the plot are smaller than those in the middle; this is because the post-selection is reducing the count rate by a factor of approximately 1/8."
   ]
  },
  {
   "cell_type": "code",
   "execution_count": 4,
   "metadata": {},
   "outputs": [
    {
     "data": {
      "image/png": "[encoded data removed]",
      "text/plain": [
       "<Figure size 432x288 with 1 Axes>"
      ]
     },
     "metadata": {},
     "output_type": "display_data"
    },
    {
     "data": {
      "text/plain": [
       "'Post-Selected RUS Plotted'"
      ]
     },
     "execution_count": 4,
     "metadata": {},
     "output_type": "execute_result"
    }
   ],
   "source": [
    "def plot_rus(num_bins,shots,error_bars=True):\n",
    "    #Plots a Post-Selected RUS circuit\n",
    "    x_axis = []\n",
    "    data = rus_counts(num_bins,shots)\n",
    "    errors = []\n",
    "    for i in data[1]:\n",
    "        errors.append((1/i)**.5)\n",
    "    for k in range(num_bins):\n",
    "        x_axis.append(k*pi/(num_bins-1))\n",
    "    if error_bars:\n",
    "        plt.errorbar(x_axis,data[0],yerr=errors,ecolor='red')\n",
    "    else:\n",
    "        plt.plot(x_axis,data[0])\n",
    "    plt.ylabel('Fraction of 1 counts')\n",
    "    plt.xlabel('Phi')\n",
    "    plt.show()\n",
    "    return 'Post-Selected RUS Plotted'\n",
    "    \n",
    "#Example\n",
    "plot_rus(20,2000)"
   ]
  },
  {
   "cell_type": "markdown",
   "metadata": {},
   "source": [
    "For a bonus visual of what happens to the target qubit as `phi` rotates, see: https://algassert.com/quirk#circuit={%22cols%22:[[%22Y^t%22],[%22Z^-%C2%BD%22],[%22%E2%80%A2%22,%22Y%22],[%22Y^-t%22],[%22Measure%22],[%22|0%E2%9F%A9%E2%9F%A80|%22],[%22%E2%80%A2%22,%22~erma%22],[1,%22%E2%80%A2%22,1,%22Y%22],[1,1,%22Y^t%22],[1,1,%22Z^-%C2%BD%22],[1,%22Y%22,%22%E2%80%A2%22],[1,1,%22Y^-t%22],[1,1,%22Measure%22],[1,1,%22|0%E2%9F%A9%E2%9F%A80|%22],[1,%22~erma%22,%22%E2%80%A2%22],[1,%22Measure%22],[1,%22|0%E2%9F%A9%E2%9F%A80|%22],[1,%22%E2%80%A2%22,1,%22~erma%22]],%22gates%22:[{%22id%22:%22~58c2%22,%22name%22:%22i%22,%22matrix%22:%22{{i,0},{0,i}}%22},{%22id%22:%22~erma%22,%22matrix%22:%22{{%E2%88%9A%C2%BD,-%E2%88%9A%C2%BD},{%E2%88%9A%C2%BD,%E2%88%9A%C2%BD}}%22},{%22id%22:%22~7co2%22,%22name%22:%22-i%22,%22matrix%22:%22{{-i,0},{0,-i}}%22},{%22id%22:%22~r5rq%22,%22name%22:%22ryinv%22,%22matrix%22:%22{{-%E2%88%9A%C2%BD,%E2%88%9A%C2%BD},{-%E2%88%9A%C2%BD,-%E2%88%9A%C2%BD}}%22}]}\n",
    "\n",
    "(Note that the above illustration of the circuit is a little hacky, and doesn't correspond *exactly* to the circuit in this tutorial, but has the same effect after post-selection)"
   ]
  },
  {
   "cell_type": "markdown",
   "metadata": {},
   "source": [
    "## Feedforward RUS Circuit\n",
    "\n",
    "Now, we will implement a version of the same circuit, but now applying a repetition component.  However, note that OpenQASM/Qiskit does not have the functionality to apply precisely the circuit that we want.  That is, we cannot tell the circuit to simply loop until we get a desired outcome.  Instead, what we can do is apply a fixed number of repetitions(`num_reps`) of the RUS blocks, such that all the gates in these blocks are conditioned on a classical register which is set to be the measurement at the end of the block.  Once the desired measurement occurs, the gates in the block are \"turned off\" for the remainder of the repetitions.\n",
    "\n",
    "To keep things simple, we will repeat the RUS_1 block but not the entire RUS circuit.  Also, for coding simplicity, we have added an X gate just before the measurement.  This only changes post-selection criteria from |0> to |1> on the first and third qubit.\n",
    "\n",
    "![Feedforward Circuit](ff_circ.png)"
   ]
  },
  {
   "cell_type": "code",
   "execution_count": 5,
   "metadata": {},
   "outputs": [],
   "source": [
    "## Generate the FF circuit using Qiskit\n",
    "\n",
    "def generate_rus_ff(phi, num_reps):\n",
    "    #Creates a Qiskit circuit object corresponding to a Feedforward RUS circuit.\n",
    "    q = QuantumRegister(4, 'q')\n",
    "    c1 = ClassicalRegister(1, 'c1')\n",
    "    c2 = ClassicalRegister(1, 'c2')\n",
    "    c3 = ClassicalRegister(1, 'c3')\n",
    "    c4 = ClassicalRegister(1, 'c4')\n",
    "    qc = QuantumCircuit(q,c1,c2,c3,c4)\n",
    "    \n",
    "    #RUS Block 1\n",
    "    for j in range(num_reps):\n",
    "        qc.ry(phi,q[0]).c_if(c1,0)\n",
    "        qc.u1(-pi/2,q[0]).c_if(c1,0)\n",
    "        qc.cy(q[0],q[1]).c_if(c1,0)\n",
    "        qc.ry(-phi,q[0]).c_if(c1,0)\n",
    "        qc.x(q[0]).c_if(c1,0)\n",
    "        qc.measure(q[0],c1[0])\n",
    "        qc.ry(-pi/2,q[1]).c_if(c1,0)\n",
    "    \n",
    "    #Apply control -iY\n",
    "    qc.u1(-pi/2,q[1])\n",
    "    qc.cy(q[1],q[3])\n",
    "    \n",
    "    #RUS Block 2\n",
    "    for j in range(num_reps):\n",
    "        qc.ry(phi,q[2]).c_if(c3,0)\n",
    "        qc.u1(-pi/2,q[2]).c_if(c3,0)\n",
    "        qc.cy(q[2],q[1]).c_if(c3,0)\n",
    "        qc.ry(phi,q[2]).c_if(c3,0)\n",
    "        qc.x(q[2]).c_if(c3,0)\n",
    "        qc.measure(q[2],c3[0])\n",
    "        qc.ry(-pi/2,q[1]).c_if(c3,0)\n",
    "    \n",
    "    #Final control\n",
    "    qc.measure(q[1],c2[0])\n",
    "    qc.ry(-pi/2,q[3]).c_if(c2,1)\n",
    "    \n",
    "    #Final measurement\n",
    "    qc.measure(q[3],c4[0])\n",
    "    #print(qc.draw())\n",
    "    return qc"
   ]
  },
  {
   "cell_type": "markdown",
   "metadata": {},
   "source": [
    "## Plot the Performance of Feedforward RUS\n",
    "\n",
    "Note that we expect to the see a similar plot as we did with the post-selected circuit."
   ]
  },
  {
   "cell_type": "code",
   "execution_count": 6,
   "metadata": {},
   "outputs": [
    {
     "data": {
      "image/png": "[encoded data removed]",
      "text/plain": [
       "<Figure size 432x288 with 1 Axes>"
      ]
     },
     "metadata": {},
     "output_type": "display_data"
    },
    {
     "data": {
      "text/plain": [
       "'Feedforward RUS Plotted'"
      ]
     },
     "execution_count": 6,
     "metadata": {},
     "output_type": "execute_result"
    }
   ],
   "source": [
    "def rus_counts_ff(num_bins,shots=1000,print_counts=False):\n",
    "    #Runs a Feedforward RUS circuit experiment over an interval of 0 to pi in increments of pi/num_bins.\n",
    "    #If print_counts=True, prints the correspoding data from the experiment.\n",
    "    bin_values = []\n",
    "    bin_counts = []\n",
    "    for k in range(num_bins):\n",
    "        phi = k*pi/(num_bins-1)\n",
    "        phi_str = '%.2f' % phi\n",
    "        qc = generate_rus_ff(k*pi/(num_bins-1),5) #We have chosen num_reps=5 as default.\n",
    "        job = execute(qc, backend, shots=shots)\n",
    "        x = job.result().get_counts(qc)\n",
    "        try: \n",
    "            y = x['1 1 0 1']\n",
    "        except:\n",
    "            y = 0\n",
    "        try: \n",
    "            z = x['0 1 0 1']\n",
    "        except:\n",
    "            z = 0\n",
    "        w = y/(z+y)\n",
    "        bin_values.append(w)\n",
    "        bin_counts.append(z+y)\n",
    "        if print_counts:\n",
    "            print('Phi: '+str(phi_str)+'   '+'0 Count: '+str(z)+'   '+'1 Count: '+str(y)+'   '+'Fraction of 1 counts : '+'%.2f' % w)\n",
    "    return [bin_values,bin_counts]\n",
    "\n",
    "def plot_rus_ff(num_bins,shots,error_bars=True):\n",
    "    #Plots a Feedforward RUS circuit\n",
    "    x_axis = []\n",
    "    data = rus_counts_ff(num_bins,shots)\n",
    "    errors = []\n",
    "    for i in data[1]:\n",
    "        errors.append((1/i)**0.5)\n",
    "    for k in range(num_bins):\n",
    "        x_axis.append(k*pi/(num_bins-1))\n",
    "    if error_bars:\n",
    "        plt.errorbar(x_axis,data[0],yerr=errors,ecolor='red')\n",
    "    else:\n",
    "        plt.plot(x_axis,data[0])\n",
    "    plt.ylabel('Fraction of 1 counts')\n",
    "    plt.xlabel('Phi')\n",
    "    plt.show()\n",
    "    return 'Feedforward RUS Plotted'\n",
    "\n",
    "#Example\n",
    "plot_rus_ff(20,2000)"
   ]
  },
  {
   "cell_type": "markdown",
   "metadata": {},
   "source": [
    "## Compare the performance between Post-Selected RUS and Feedforward RUS\n",
    "\n",
    "The difference between the output of these two circuits is a little bit hidden---it is manifested in the variance of the data points.  Here, we choose a smaller number of shots to emphasize this difference."
   ]
  },
  {
   "cell_type": "code",
   "execution_count": 7,
   "metadata": {},
   "outputs": [
    {
     "data": {
      "image/png": "[encoded data removed]",
      "text/plain": [
       "<Figure size 432x288 with 1 Axes>"
      ]
     },
     "metadata": {},
     "output_type": "display_data"
    },
    {
     "name": "stdout",
     "output_type": "stream",
     "text": [
      "Post-Selected RUS Plotted\n"
     ]
    },
    {
     "data": {
      "image/png": "[encoded data removed]",
      "text/plain": [
       "<Figure size 432x288 with 1 Axes>"
      ]
     },
     "metadata": {},
     "output_type": "display_data"
    },
    {
     "name": "stdout",
     "output_type": "stream",
     "text": [
      "Feedforward RUS Plotted\n"
     ]
    }
   ],
   "source": [
    "#The Post-Selected RUS looks like:\n",
    "print(plot_rus(20,800))\n",
    "#The Feedforward RUS looks like:\n",
    "print(plot_rus_ff(20,800))"
   ]
  },
  {
   "cell_type": "markdown",
   "metadata": {},
   "source": [
    "## Write QASM\n",
    "\n",
    "To write the above circuits to a separate `.qasm` file, use the below `write_qasm` function.  "
   ]
  },
  {
   "cell_type": "code",
   "execution_count": 8,
   "metadata": {},
   "outputs": [
    {
     "name": "stdout",
     "output_type": "stream",
     "text": [
      "QASM written to rus_ps.qasm\n",
      "QASM written to rus_ff.qasm\n"
     ]
    }
   ],
   "source": [
    "def get_qasm(circuit,backend):\n",
    "    #Returns the .qasm of a Qiskit circuit\n",
    "    x = to_qasm(circuit,backend)\n",
    "    y = qobj_to_dict_current_version(x)\n",
    "    return y['experiments'][0]['header']['compiled_circuit_qasm']\n",
    "\n",
    "#print(get_qasm(generate_rus_ps(pi/2),backend))\n",
    "\n",
    "def write_qasm(file_name,circuit,backend):\n",
    "    #Writes a circuit's corresponding .qasm to 'file_name.qasm'\n",
    "    x = get_qasm(circuit,backend)\n",
    "    file = open(file_name+'.qasm',\"w\") \n",
    "    file.write(x)\n",
    "    file.close()\n",
    "    return 'QASM written to '+file_name+'.qasm'\n",
    "\n",
    "#Example\n",
    "print(write_qasm('rus_ps',generate_rus_ps(pi/2),backend))\n",
    "print(write_qasm('rus_ff',generate_rus_ff(pi/2,3),backend))"
   ]
  },
  {
   "cell_type": "code",
   "execution_count": null,
   "metadata": {},
   "outputs": [],
   "source": []
  }
 ],
 "metadata": {
  "kernelspec": {
   "display_name": "Python 3",
   "language": "python",
   "name": "python3"
  },
  "language_info": {
   "codemirror_mode": {
    "name": "ipython",
    "version": 3
   },
   "file_extension": ".py",
   "mimetype": "text/x-python",
   "name": "python",
   "nbconvert_exporter": "python",
   "pygments_lexer": "ipython3",
   "version": "3.6.5"
  }
 },
 "nbformat": 4,
 "nbformat_minor": 2
}
